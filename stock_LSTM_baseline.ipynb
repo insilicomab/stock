{
  "nbformat": 4,
  "nbformat_minor": 0,
  "metadata": {
    "colab": {
      "name": "stock_LSTM_baseline.ipynb",
      "provenance": [],
      "collapsed_sections": []
    },
    "kernelspec": {
      "name": "python3",
      "display_name": "Python 3"
    },
    "language_info": {
      "name": "python"
    },
    "accelerator": "GPU"
  },
  "cells": [
    {
      "cell_type": "code",
      "execution_count": 1,
      "metadata": {
        "colab": {
          "base_uri": "https://localhost:8080/",
          "height": 753
        },
        "id": "dsu0KHBBlVAL",
        "outputId": "3d0e2551-7872-4838-d56e-a8770f8279d8"
      },
      "outputs": [
        {
          "output_type": "stream",
          "name": "stdout",
          "text": [
            "Collecting signate\n",
            "  Downloading signate-0.9.9-py3-none-any.whl (37 kB)\n",
            "Collecting wget\n",
            "  Downloading wget-3.2.zip (10 kB)\n",
            "Requirement already satisfied: tabulate in /usr/local/lib/python3.7/dist-packages (from signate) (0.8.9)\n",
            "Collecting urllib3>=1.26.7\n",
            "  Downloading urllib3-1.26.8-py2.py3-none-any.whl (138 kB)\n",
            "\u001b[K     |████████████████████████████████| 138 kB 54.8 MB/s \n",
            "\u001b[?25hRequirement already satisfied: certifi in /usr/local/lib/python3.7/dist-packages (from signate) (2021.10.8)\n",
            "Requirement already satisfied: click in /usr/local/lib/python3.7/dist-packages (from signate) (7.1.2)\n",
            "Requirement already satisfied: python-dateutil in /usr/local/lib/python3.7/dist-packages (from signate) (2.8.2)\n",
            "Collecting six>=1.16\n",
            "  Downloading six-1.16.0-py2.py3-none-any.whl (11 kB)\n",
            "Building wheels for collected packages: wget\n",
            "  Building wheel for wget (setup.py) ... \u001b[?25l\u001b[?25hdone\n",
            "  Created wheel for wget: filename=wget-3.2-py3-none-any.whl size=9675 sha256=90cbb568e856bfd24dee691181a65f3a8853810aa46f20507c8ec7b2878806ed\n",
            "  Stored in directory: /root/.cache/pip/wheels/a1/b6/7c/0e63e34eb06634181c63adacca38b79ff8f35c37e3c13e3c02\n",
            "Successfully built wget\n",
            "Installing collected packages: six, wget, urllib3, signate\n",
            "  Attempting uninstall: six\n",
            "    Found existing installation: six 1.15.0\n",
            "    Uninstalling six-1.15.0:\n",
            "      Successfully uninstalled six-1.15.0\n",
            "  Attempting uninstall: urllib3\n",
            "    Found existing installation: urllib3 1.24.3\n",
            "    Uninstalling urllib3-1.24.3:\n",
            "      Successfully uninstalled urllib3-1.24.3\n",
            "\u001b[31mERROR: pip's dependency resolver does not currently take into account all the packages that are installed. This behaviour is the source of the following dependency conflicts.\n",
            "requests 2.23.0 requires urllib3!=1.25.0,!=1.25.1,<1.26,>=1.21.1, but you have urllib3 1.26.8 which is incompatible.\n",
            "google-colab 1.0.0 requires six~=1.15.0, but you have six 1.16.0 which is incompatible.\n",
            "datascience 0.10.6 requires folium==0.2.1, but you have folium 0.8.3 which is incompatible.\n",
            "albumentations 0.1.12 requires imgaug<0.2.7,>=0.2.5, but you have imgaug 0.2.9 which is incompatible.\u001b[0m\n",
            "Successfully installed signate-0.9.9 six-1.16.0 urllib3-1.26.8 wget-3.2\n"
          ]
        },
        {
          "output_type": "display_data",
          "data": {
            "application/vnd.colab-display-data+json": {
              "pip_warning": {
                "packages": [
                  "six"
                ]
              }
            }
          },
          "metadata": {}
        },
        {
          "output_type": "stream",
          "name": "stderr",
          "text": [
            "/usr/local/lib/python3.7/dist-packages/requests/__init__.py:91: RequestsDependencyWarning: urllib3 (1.26.8) or chardet (3.0.4) doesn't match a supported version!\n",
            "  RequestsDependencyWarning)\n"
          ]
        },
        {
          "output_type": "stream",
          "name": "stdout",
          "text": [
            "Download 100%.\n"
          ]
        }
      ],
      "source": [
        "!pip install signate\n",
        "\n",
        "from googleapiclient.discovery import build\n",
        "import io, os\n",
        "from googleapiclient.http import MediaIoBaseDownload\n",
        "from google.colab import auth\n",
        "\n",
        "\n",
        "auth.authenticate_user()\n",
        "\n",
        "drive_service = build('drive', 'v3')\n",
        "results = drive_service.files().list(\n",
        "        q=\"name = 'signate.json'\", fields=\"files(id)\").execute()\n",
        "signate_api_key = results.get('files', [])\n",
        "\n",
        "filename = \"/root/.signate/signate.json\"\n",
        "os.makedirs(os.path.dirname(filename), exist_ok=True)\n",
        "\n",
        "request = drive_service.files().get_media(fileId=signate_api_key[0]['id'])\n",
        "fh = io.FileIO(filename, 'wb')\n",
        "downloader = MediaIoBaseDownload(fh, request)\n",
        "done = False\n",
        "while done is False:\n",
        "    status, done = downloader.next_chunk()\n",
        "    print(\"Download %d%%.\" % int(status.progress() * 100))\n",
        "os.chmod(filename, 600)"
      ]
    },
    {
      "cell_type": "code",
      "source": [
        "! signate list\n",
        "! signate files --competition-id=409\n",
        "! signate download --competition-id=409"
      ],
      "metadata": {
        "colab": {
          "base_uri": "https://localhost:8080/"
        },
        "id": "QToGROn9lW4U",
        "outputId": "8cea05b1-b7d8-4b2a-fa12-b9f6bceff116"
      },
      "execution_count": 2,
      "outputs": [
        {
          "output_type": "stream",
          "name": "stdout",
          "text": [
            "  competitionId  title                                                                                      closing     prize                  submitters\n",
            "---------------  -----------------------------------------------------------------------------------------  ----------  -------------------  ------------\n",
            "              1  【練習問題】銀行の顧客ターゲティング                                                       -                                        5408\n",
            "             24  【練習問題】お弁当の需要予測                                                               -                                        6682\n",
            "             27  【練習問題】Jリーグの観客動員数予測                                                        -                                        1532\n",
            "            100  【練習問題】手書き文字認識                                                                 -           Knowledge                     204\n",
            "            102  【練習問題】タイタニックの生存予測                                                         -           Knowledge                    1269\n",
            "            103  【練習問題】音楽ラベリング                                                                 -           Knowledge                      62\n",
            "            104  【練習問題】スパムメール分類                                                               -           Knowledge                     137\n",
            "            105  【練習問題】毒キノコの分類                                                                 -           Knowledge                     268\n",
            "            106  【練習問題】アワビの年齢予測                                                               -           Knowledge                     364\n",
            "            107  【練習問題】国勢調査からの収入予測                                                         -           Knowledge                     544\n",
            "            108  【練習問題】画像ラベリング（20種類）                                                       -           Knowledge                     226\n",
            "            112  【練習問題】ワインの品種の予測                                                             -           Knowledge                     316\n",
            "            113  【練習問題】山火事の消失面積予測                                                           -           Knowledge                     205\n",
            "            114  【練習問題】レンタル自転車の利用者数予測                                                   -           Knowledge                     386\n",
            "            115  【練習問題】アヤメの分類                                                                   -           Knowledge                     355\n",
            "            116  【練習問題】活動センサーログからの動作予測                                                 -           Knowledge                      52\n",
            "            118  【練習問題】テニスの試合結果の予測                                                         -           Knowledge                     125\n",
            "            121  【練習問題】自動車の走行距離予測                                                           -           Knowledge                    1471\n",
            "            122  【練習問題】自動車の評価                                                                   -           Knowledge                     315\n",
            "            123  【練習問題】オゾンレベルの分類                                                             -           Knowledge                      46\n",
            "            124  【練習問題】ボットの判別                                                                   -           Knowledge                     309\n",
            "            125  【練習問題】ガラスの分類                                                                   -           Knowledge                     159\n",
            "            126  【練習問題】林型の分類                                                                     -           Knowledge                      39\n",
            "            127  【練習問題】ゲーム選手のリーグ分類                                                         -           Knowledge                      59\n",
            "            128  【練習問題】ステンレス板の欠陥分類                                                         -           Knowledge                      65\n",
            "            129  【練習問題】都市サイクルの燃料消費量予測                                                   -           Knowledge                     126\n",
            "            130  【練習問題】天秤のバランス分類                                                             -           Knowledge                     101\n",
            "            132  【練習問題】ネット広告のクリック予測                                                       -           Knowledge                     145\n",
            "            133  【練習問題】画像ラベリング（10種類）                                                       -                                         350\n",
            "            135  【練習問題】ネット画像の分類                                                               -                                          74\n",
            "            262  【SOTA】国立国会図書館の画像データレイアウト認識                                           2100-12-31  -                              72\n",
            "            263  【SOTA】産業技術総合研究所 衛星画像分析コンテスト                                          2100-12-31  -                              44\n",
            "            264  【SOTA】マイナビ × SIGNATE Student Cup 2019: 賃貸物件の家賃予測                            2100-12-31  -                             369\n",
            "            265  【練習問題】健診データによる肝疾患判定                                                     -                                         508\n",
            "            266  【練習問題】民泊サービスの宿泊価格予測                                                     -                                         574\n",
            "            267  【SOTA】海洋研究開発機構 熱帯低気圧（台風等）検出アルゴリズム作成                          2100-12-31  -                              17\n",
            "            268  【SOTA】オプト レコメンドエンジン作成                                                      2100-12-31                                 38\n",
            "            269  【SOTA】アップル 引越し需要予測                                                            2100-12-31  -                             329\n",
            "            270  【SOTA】Weather Challenge：雲画像予測                                                      2100-12-31  -                               7\n",
            "            271  【SOTA】JR西日本 走行中の北陸新幹線車両台車部の着雪量予測                                  2100-12-31  -                              21\n",
            "            288  【SOTA】Sansan 名刺の項目予測                                                              2100-12-31  -                              30\n",
            "            294  【練習問題】債務不履行リスクの低減                                                         -                                         191\n",
            "            358  【練習問題】機械稼働音の異常検知                                                           -                                          72\n",
            "            404  【練習問題】モノクロ顔画像の感情分類                                                       -                                          76\n",
            "            406  【練習問題】鋳造製品の欠陥検出                                                             -                                         190\n",
            "            409  【練習問題】株価の推移予測                                                                 -                                         177\n",
            "            489  【AIQuest2021】PBL_01 需要予測・在庫最適化（小売業）ビジネス導入課題①                      2022-02-05                                521\n",
            "            490  【AIQuest2021】PBL_01 需要予測・在庫最適化（小売業）ビジネス導入課題②                      2022-02-05                                518\n",
            "            491  【AIQuest2021】PBL_01 需要予測・在庫最適化（小売業）ビジネス導入課題③                      2022-02-05                                517\n",
            "            492  【AIQuest2021】PBL_01 需要予測・在庫最適化（小売業）AI課題                                 2022-02-05                                482\n",
            "            493  【AIQuest2021】PBL_01 需要予測・在庫最適化（小売業）ビジネス実装課題                       2022-02-05                                369\n",
            "            517  【AIQuest2021】PBL_05 不良個所自動検出による検品作業効率化（木材加工業）ビジネス導入課題①  2022-02-05                                150\n",
            "            518  【AIQuest2021】PBL_05 不良個所自動検出による検品作業効率化（木材加工業）ビジネス導入課題②  2022-02-05                                150\n",
            "            519  【AIQuest2021】PBL_05 不良個所自動検出による検品作業効率化（木材加工業）ビジネス導入課題③  2022-02-05                                150\n",
            "            520  【AIQuest2021】PBL_05 不良個所自動検出による検品作業効率化（木材加工業）AI課題             2022-02-05                                135\n",
            "            521  【AIQuest2021】PBL_05 不良個所自動検出による検品作業効率化（木材加工業）ビジネス実装課題   2022-02-05                                 94\n",
            "            537  第5回AIエッジコンテスト（実装コンテスト③）                                                 2022-02-15  total 1,600,000 yen            13\n",
            "            563  SUBARU 画像認識チャレンジ                                                                  2022-01-31  総額¥2,000,000                119\n",
            "            565  【SOTA】SIGNATE Student Cup 2021春：楽曲のジャンル推定チャレンジ！！                       2100-12-31  -                              31\n",
            "            567  【SOTA】SIGNATE Student Cup 2021秋：オペレーション最適化に向けたシェアサイクルの利用予測   2100-12-31  -                              22\n",
            "  fileId  name                   title                     size  updated_at\n",
            "--------  ---------------------  ----------------------  ------  -------------------\n",
            "    1598  train.csv              学習用データ             74502  2020-12-08 22:18:22\n",
            "    1599  test.csv               評価用データ             46220  2020-12-08 22:18:35\n",
            "    1600  sample_submission.csv  応募用サンプルファイル    2600  2020-12-08 22:18:52\n",
            "sample_submission.csv\n",
            "\n",
            "test.csv\n",
            "\n",
            "train.csv\n",
            "\n",
            "\u001b[32m\n",
            "Download completed.\u001b[0m\n"
          ]
        }
      ]
    },
    {
      "cell_type": "code",
      "source": [
        "# ディレクトリ内のデータの確認\n",
        "%ls"
      ],
      "metadata": {
        "colab": {
          "base_uri": "https://localhost:8080/"
        },
        "id": "sYyT2ks0lgDV",
        "outputId": "4d035ffb-3d4e-47b2-ee16-b48528014075"
      },
      "execution_count": 3,
      "outputs": [
        {
          "output_type": "stream",
          "name": "stdout",
          "text": [
            "adc.json  \u001b[0m\u001b[01;34msample_data\u001b[0m/  sample_submission.csv  test.csv  train.csv\n"
          ]
        }
      ]
    },
    {
      "cell_type": "code",
      "source": [
        "# Googleドライブのマウント\n",
        "from google.colab import drive\n",
        "drive.mount('/content/drive/')"
      ],
      "metadata": {
        "colab": {
          "base_uri": "https://localhost:8080/"
        },
        "id": "WOiDsnOVliHz",
        "outputId": "9401d5fd-bec3-4dde-c236-789ec33fb9a4"
      },
      "execution_count": 4,
      "outputs": [
        {
          "output_type": "stream",
          "name": "stdout",
          "text": [
            "Mounted at /content/drive/\n"
          ]
        }
      ]
    },
    {
      "cell_type": "code",
      "source": [
        "'''\n",
        "データの読み込みと確認\n",
        "'''\n",
        "\n",
        "# ライブラリのインポート\n",
        "import pandas as pd\n",
        "import numpy as np\n",
        "import matplotlib.pyplot as plt\n",
        "import seaborn as sns\n",
        "\n",
        "from sklearn.model_selection import train_test_split\n",
        "from sklearn.preprocessing import StandardScaler\n",
        "\n",
        "# ランダムシードの設定\n",
        "import random\n",
        "np.random.seed(1234)\n",
        "random.seed(1234)\n",
        "\n",
        "# データの読み込み\n",
        "train = pd.read_csv('train.csv')\n",
        "test = pd.read_csv('test.csv')\n",
        "submission = pd.read_csv('sample_submission.csv', header=None)\n",
        "\n",
        "# データの確認\n",
        "print(train.head())\n",
        "print(train.dtypes)\n",
        "\n",
        "# 欠損値の確認\n",
        "print(train.isnull().sum())\n",
        "print(test.isnull().sum())\n",
        "\n",
        "'''\n",
        "特徴量エンジニアリング\n",
        "'''\n",
        "\n",
        "from sklearn.model_selection import train_test_split\n",
        "from sklearn.preprocessing import StandardScaler\n",
        "\n",
        "# 学習データとテストデータの連結\n",
        "df = pd.concat([train, test], sort=False).reset_index(drop=True)\n",
        "\n",
        "\"\"\" 特徴量Bodyを追加 \"\"\"\n",
        "\n",
        "df['Body'] = df['Open'] - df['Close']\n",
        "\n",
        "\n",
        "\"\"\" 特徴量Rateを追加 \"\"\"\n",
        "\n",
        "df['Rate'] = (df['Close'] - df['Close'].shift(1)) / df['Close'].shift(1)\n",
        "df['Rate'] = df['Rate'].fillna(0)\n",
        "\n",
        "\"\"\" 不要なカラムを削除 \"\"\"\n",
        "\n",
        "df = df.drop(['Date'], axis=1)\n",
        "\n",
        "# trainとtestに再分割\n",
        "train = df[~df['Up'].isnull()]\n",
        "test = df[df['Up'].isnull()]\n",
        "\n",
        "# 説明変数と目的変数を指定\n",
        "X_train = train.drop(['Up'], axis=1)\n",
        "Y_train = train['Up']\n",
        "X_test = test.drop(['Up'], axis=1)\n",
        "Y_test = test['Up']\n",
        "\n",
        "# 学習データと検証データの分割\n",
        "x_train, x_valid, y_train, y_valid = train_test_split(X_train, Y_train,\n",
        "                                                      test_size=0.25, random_state=0,\n",
        "                                                      shuffle=False)\n",
        "\n",
        "# 関数get_standardized_tの定義\n",
        "def get_standardized_t(X, num_date):\n",
        "    X = np.array(X)\n",
        "    X_t_list = []\n",
        "    for i in range(len(X) - num_date + 1):\n",
        "        X_t = X[i:i+num_date]\n",
        "        scaler = StandardScaler()\n",
        "        X_standardized = scaler.fit_transform(X_t)\n",
        "        X_t_list.append(X_standardized)\n",
        "    return np.array(X_t_list)\n",
        "\n",
        "num_date = 5\n",
        "\n",
        "# 関数get_standardized_tの呼び出し\n",
        "x_train_t = get_standardized_t(X=x_train, num_date=num_date)\n",
        "x_valid_t = get_standardized_t(X=x_valid, num_date=num_date)\n",
        "X_test_t = get_standardized_t(X=X_test, num_date=num_date)\n",
        "\n",
        "print(x_train_t.shape, x_valid_t.shape, X_test_t.shape)\n",
        "\n",
        "# 目的変数の変形\n",
        "y_train_t = y_train[num_date-1:]\n",
        "y_valid_t = y_valid[num_date-1:]\n",
        "Y_test_t = Y_test[num_date-1:]\n",
        "\n",
        "'''\n",
        "モデルの構築と評価\n",
        "'''\n",
        "\n",
        "from keras.models import Sequential\n",
        "from keras.layers import Dense, LSTM, Dropout\n",
        "\n",
        "# ネットワークの各層のサイズの定義\n",
        "num_l1 = 100\n",
        "num_l2 = 20\n",
        "num_output = 1\n",
        "\n",
        "# エポック数\n",
        "epochs = 10\n",
        "\n",
        "# バッチサイズ\n",
        "batch_size=24\n",
        "\n",
        "\n",
        "# Dropoutの割合の定義\n",
        "dropout_rate = 0.25\n",
        "\n",
        "# 以下、ネットワークを構築\n",
        "model = Sequential()\n",
        "# 第1層\n",
        "model.add(LSTM(units=num_l1, activation='tanh', batch_input_shape=(None, x_train_t.shape[1], x_train_t.shape[2])))\n",
        "model.add(Dropout(dropout_rate))\n",
        "# 第2層\n",
        "model.add(Dense(num_l2, activation='relu'))\n",
        "model.add(Dropout(dropout_rate))\n",
        "# 出力層\n",
        "model.add(Dense(num_output, activation='sigmoid'))\n",
        "# ネットワークのコンパイル\n",
        "model.compile(loss='binary_crossentropy', optimizer='adam', metrics=['accuracy'])\n",
        "\n",
        "# モデルの学習の実行\n",
        "result = model.fit(x=x_train_t, y=y_train_t, epochs=epochs, batch_size=batch_size, validation_data=(x_valid_t, y_valid_t))\n",
        "\n",
        "# モデルを評価\n",
        "score = model.evaluate(x_valid_t, y_valid_t, verbose=1)\n",
        "print('正解率=', score[1], 'loss=', score[0])\n",
        "\n",
        "'''\n",
        "学習過程のグラフ化\n",
        "'''\n",
        "    \n",
        "# 正解率の推移をプロット\n",
        "plt.plot(result.history['accuracy'])\n",
        "plt.plot(result.history['val_accuracy'])\n",
        "plt.title('Accuracy')\n",
        "plt.legend(['train', 'test'], loc='upper left')\n",
        "plt.show()\n",
        "\n",
        "# ロスの推移をプロット\n",
        "plt.plot(result.history['loss'])\n",
        "plt.plot(result.history['val_loss'])\n",
        "plt.title('Loss')\n",
        "plt.legend(['train', 'test'], loc='upper left')\n",
        "plt.show()\n",
        "\n",
        "\"\"\"\n",
        "テストデータの予測\n",
        "\"\"\"\n",
        "\n",
        "from sklearn.metrics import accuracy_score\n",
        "\n",
        "# 評価データの予測結果の算出\n",
        "pred_prob = model.predict(X_test_t)\n",
        "\n",
        "# 予測結果の先頭10件を確認\n",
        "print('予測結果の先頭10件')\n",
        "print(pred_prob[:10])\n",
        "\n",
        "# 評価データの予測結果を0もしくは1に丸め込み\n",
        "pred = np.round(pred_prob)\n",
        "\n",
        "# 丸め込んだ予測結果の先頭10件を確認\n",
        "print('丸め込んだ予測結果の先頭10件')\n",
        "print(pred[:10], f'データ数：{len(pred)}')"
      ],
      "metadata": {
        "colab": {
          "base_uri": "https://localhost:8080/",
          "height": 1000
        },
        "id": "t8BsDH2Mlw9N",
        "outputId": "83880f22-586b-491f-b02c-8f25f5a5e1a7"
      },
      "execution_count": 74,
      "outputs": [
        {
          "output_type": "stream",
          "name": "stdout",
          "text": [
            "         Date   Open   High    Low  Close  Up\n",
            "0  2004-01-02  50.85  50.91  50.62  50.72   1\n",
            "1  2004-01-05  50.75  50.84  50.61  50.79   1\n",
            "2  2004-01-06  50.87  51.26  50.86  51.15   1\n",
            "3  2004-01-07  51.45  51.54  51.29  51.51   0\n",
            "4  2004-01-08  51.15  51.33  51.02  51.28   0\n",
            "Date      object\n",
            "Open     float64\n",
            "High     float64\n",
            "Low      float64\n",
            "Close    float64\n",
            "Up         int64\n",
            "dtype: object\n",
            "Date     0\n",
            "Open     0\n",
            "High     0\n",
            "Low      0\n",
            "Close    0\n",
            "Up       0\n",
            "dtype: int64\n",
            "Date     0\n",
            "Open     0\n",
            "High     0\n",
            "Low      0\n",
            "Close    0\n",
            "dtype: int64\n",
            "(1515, 5, 6) (503, 5, 6) (1196, 5, 6)\n",
            "Epoch 1/10\n",
            "64/64 [==============================] - 3s 11ms/step - loss: 0.6857 - accuracy: 0.5419 - val_loss: 0.6753 - val_accuracy: 0.5785\n",
            "Epoch 2/10\n",
            "64/64 [==============================] - 0s 5ms/step - loss: 0.6707 - accuracy: 0.5815 - val_loss: 0.6533 - val_accuracy: 0.6223\n",
            "Epoch 3/10\n",
            "64/64 [==============================] - 0s 5ms/step - loss: 0.6554 - accuracy: 0.6178 - val_loss: 0.6402 - val_accuracy: 0.6203\n",
            "Epoch 4/10\n",
            "64/64 [==============================] - 0s 5ms/step - loss: 0.6453 - accuracy: 0.6251 - val_loss: 0.6356 - val_accuracy: 0.6243\n",
            "Epoch 5/10\n",
            "64/64 [==============================] - 0s 5ms/step - loss: 0.6402 - accuracy: 0.6416 - val_loss: 0.6399 - val_accuracy: 0.6183\n",
            "Epoch 6/10\n",
            "64/64 [==============================] - 0s 5ms/step - loss: 0.6390 - accuracy: 0.6363 - val_loss: 0.6383 - val_accuracy: 0.6262\n",
            "Epoch 7/10\n",
            "64/64 [==============================] - 0s 5ms/step - loss: 0.6425 - accuracy: 0.6356 - val_loss: 0.6390 - val_accuracy: 0.6262\n",
            "Epoch 8/10\n",
            "64/64 [==============================] - 0s 5ms/step - loss: 0.6377 - accuracy: 0.6429 - val_loss: 0.6422 - val_accuracy: 0.6143\n",
            "Epoch 9/10\n",
            "64/64 [==============================] - 0s 5ms/step - loss: 0.6307 - accuracy: 0.6396 - val_loss: 0.6401 - val_accuracy: 0.6223\n",
            "Epoch 10/10\n",
            "64/64 [==============================] - 0s 5ms/step - loss: 0.6345 - accuracy: 0.6495 - val_loss: 0.6405 - val_accuracy: 0.6083\n",
            "16/16 [==============================] - 0s 3ms/step - loss: 0.6405 - accuracy: 0.6083\n",
            "正解率= 0.6083499193191528 loss= 0.6405087113380432\n"
          ]
        },
        {
          "output_type": "display_data",
          "data": {
            "image/png": "[encoded data removed]",
            "text/plain": [
              "<Figure size 432x288 with 1 Axes>"
            ]
          },
          "metadata": {
            "needs_background": "light"
          }
        },
        {
          "output_type": "display_data",
          "data": {
            "image/png": "[encoded data removed]",
            "text/plain": [
              "<Figure size 432x288 with 1 Axes>"
            ]
          },
          "metadata": {
            "needs_background": "light"
          }
        },
        {
          "output_type": "stream",
          "name": "stdout",
          "text": [
            "予測結果の先頭10件\n",
            "[[0.8819928 ]\n",
            " [0.38121367]\n",
            " [0.6480175 ]\n",
            " [0.4773657 ]\n",
            " [0.22564283]\n",
            " [0.7503978 ]\n",
            " [0.1940688 ]\n",
            " [0.69314784]\n",
            " [0.7641102 ]\n",
            " [0.41745085]]\n",
            "丸め込んだ予測結果の先頭10件\n",
            "[[1.]\n",
            " [0.]\n",
            " [1.]\n",
            " [0.]\n",
            " [0.]\n",
            " [1.]\n",
            " [0.]\n",
            " [1.]\n",
            " [1.]\n",
            " [0.]] データ数：1196\n"
          ]
        }
      ]
    }
  ]
}